{
  "nbformat": 4,
  "nbformat_minor": 0,
  "metadata": {
    "colab": {
      "provenance": [],
      "authorship_tag": "ABX9TyMXRJu8LvvueV9UPk78rlPw",
      "include_colab_link": true
    },
    "kernelspec": {
      "name": "python3",
      "display_name": "Python 3"
    },
    "language_info": {
      "name": "python"
    }
  },
  "cells": [
    {
      "cell_type": "markdown",
      "metadata": {
        "id": "view-in-github",
        "colab_type": "text"
      },
      "source": [
        "<a href=\"https://colab.research.google.com/github/Solismike12/TRABAJOS-IA-SABATINO/blob/main/IA_Ejercicio1_Miguel_Solis_1908279.ipynb\" target=\"_parent\"><img src=\"https://colab.research.google.com/assets/colab-badge.svg\" alt=\"Open In Colab\"/></a>"
      ]
    },
    {
      "cell_type": "markdown",
      "source": [
        "# A2: Ejercicios en Python\n",
        "# Miguel Angel Solis Corpus\n",
        "# 1908279\n",
        "# N1-N3\n"
      ],
      "metadata": {
        "id": "cN90n_Jf9UQg"
      }
    },
    {
      "cell_type": "markdown",
      "source": [
        "Ejercicio 1"
      ],
      "metadata": {
        "id": "16Ho7WyfNM22"
      }
    },
    {
      "cell_type": "code",
      "execution_count": 30,
      "metadata": {
        "colab": {
          "base_uri": "https://localhost:8080/"
        },
        "id": "D9qtg58e8s5M",
        "outputId": "549834c4-d767-472a-d565-95f0491f83ad"
      },
      "outputs": [
        {
          "output_type": "stream",
          "name": "stdout",
          "text": [
            "Ingresa tu nombre:Miguel\n",
            "Bienvenido Miguel\n"
          ]
        }
      ],
      "source": [
        "nombre=input(\"Ingresa tu nombre:\")\n",
        "if nombre == \"Miguel\":\n",
        "  print(\"Bienvenido \"  + nombre)\n",
        "  \n",
        "if nombre == \"Ana\":\n",
        "  print(\"No bienvenida\")\n",
        "\n",
        "elif nombre == \"Juan\":\n",
        "  print(\"No bienvenido\")\n",
        "\n",
        "elif nombre == \"Pedro\":\n",
        "  print(\"No bienvenido\")\n",
        "  "
      ]
    },
    {
      "cell_type": "markdown",
      "source": [
        "Ejercicio 2"
      ],
      "metadata": {
        "id": "fLhadG3VNVmf"
      }
    },
    {
      "cell_type": "code",
      "source": [
        "from __future__ import print_function\n",
        "lista= [1,2,3,4,5,6,7,8,9,10]\n",
        "def invertir_lista(lista):\n",
        "  if lista == [] :\n",
        "    return  lista\n",
        "  else: \n",
        "    return [lista[-1]]  +  invertir_lista(lista[:-1])\n",
        "  \n",
        "print (invertir_lista(lista))\n",
        "\n"
      ],
      "metadata": {
        "colab": {
          "base_uri": "https://localhost:8080/"
        },
        "id": "qfJA1mYn_X5O",
        "outputId": "670ed69e-4684-427e-fb71-86971a85ece8"
      },
      "execution_count": 18,
      "outputs": [
        {
          "output_type": "stream",
          "name": "stdout",
          "text": [
            "[10, 9, 8, 7, 6, 5, 4, 3, 2, 1]\n"
          ]
        }
      ]
    },
    {
      "cell_type": "markdown",
      "source": [
        "Ejercicio 3"
      ],
      "metadata": {
        "id": "PGlNEE8xNJW-"
      }
    },
    {
      "cell_type": "code",
      "source": [
        "def rect(yes):\n",
        "  print(\"____________\")\n",
        "  for x in (yes):  \n",
        "    print( \"|\", x, \"|\")\n",
        "yes = [\"Me\", \"gustan\", \"mucho\", \"los\", \"hot\", \"cakes\"]\n",
        "\n",
        "rect(yes)\n",
        "print(\"____________\")"
      ],
      "metadata": {
        "colab": {
          "base_uri": "https://localhost:8080/"
        },
        "id": "TKPuDUW3XKUd",
        "outputId": "e4e89def-2773-453a-f85d-7bd9e07cb9ed"
      },
      "execution_count": 65,
      "outputs": [
        {
          "output_type": "stream",
          "name": "stdout",
          "text": [
            "____________\n",
            "| Me |\n",
            "| gustan |\n",
            "| mucho |\n",
            "| los |\n",
            "| hot |\n",
            "| cakes |\n",
            "____________\n"
          ]
        }
      ]
    }
  ]
}